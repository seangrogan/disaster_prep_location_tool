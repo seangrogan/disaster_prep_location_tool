{
 "cells": [
  {
   "cell_type": "markdown",
   "source": [
    "# Disaster Prep Tool"
   ],
   "metadata": {
    "collapsed": false,
    "pycharm": {
     "name": "#%% md\n"
    }
   }
  },
  {
   "cell_type": "code",
   "execution_count": 1,
   "outputs": [],
   "source": [
    "from collections import Counter, namedtuple\n",
    "\n",
    "from TornadoCaseGetter import TornadoCaseGetter\n",
    "from disaster_prep_location_tool import read_data\n",
    "from parameters.parfile_reader import parfile_reader"
   ],
   "metadata": {
    "collapsed": false,
    "pycharm": {
     "name": "#%%\n"
    }
   }
  },
  {
   "cell_type": "code",
   "execution_count": 2,
   "outputs": [
    {
     "name": "stdout",
     "output_type": "stream",
     "text": [
      "Reading : D:/gis_database/usa/oklahoma/fire_stations/firestations.shp\n",
      "Reading : D:/gis_database/usa/oklahoma/SBWs_2000_01_01_to_2020_08_27/SBWs_2000_01_01_to_2020_08_27.shp\n"
     ]
    }
   ],
   "source": [
    "# Read Parameters and Data\n",
    "pars = parfile_reader(\"./parameters/par1.json\")\n",
    "\n",
    "# Reading and ensuring data is correct\n",
    "fire_stations, sbws, waypoints, tornado_db = read_data(pars)"
   ],
   "metadata": {
    "collapsed": false,
    "pycharm": {
     "name": "#%%\n"
    }
   }
  },
  {
   "cell_type": "code",
   "execution_count": 3,
   "outputs": [
    {
     "name": "stderr",
     "output_type": "stream",
     "text": [
      "                                                                                \r"
     ]
    }
   ],
   "source": [
    "# Creating a class to organize historic tornado events\n",
    "# and allows for 'calling' of a random event\n",
    "tornado_cases = TornadoCaseGetter(tornado_db, sbws, waypoints)"
   ],
   "metadata": {
    "collapsed": false,
    "pycharm": {
     "name": "#%%\n"
    }
   }
  },
  {
   "cell_type": "code",
   "execution_count": 11,
   "outputs": [
    {
     "name": "stderr",
     "output_type": "stream",
     "text": [
      "Routing...:   0%|          | 0/1 [49:11<?, ?it/s]34<33:09:29, 32.05s/it, 218]\n"
     ]
    },
    {
     "ename": "KeyboardInterrupt",
     "evalue": "",
     "output_type": "error",
     "traceback": [
      "\u001B[1;31m---------------------------------------------------------------------------\u001B[0m",
      "\u001B[1;31mKeyboardInterrupt\u001B[0m                         Traceback (most recent call last)",
      "\u001B[1;32m~\\AppData\\Local\\Temp/ipykernel_1008/2656305269.py\u001B[0m in \u001B[0;36m<module>\u001B[1;34m\u001B[0m\n\u001B[0;32m      1\u001B[0m \u001B[0mtornado_date\u001B[0m\u001B[1;33m,\u001B[0m \u001B[0mtornado_event\u001B[0m \u001B[1;33m=\u001B[0m \u001B[0mtornado_cases\u001B[0m\u001B[1;33m.\u001B[0m\u001B[0mget_random_event\u001B[0m\u001B[1;33m(\u001B[0m\u001B[1;33m)\u001B[0m\u001B[1;33m\u001B[0m\u001B[1;33m\u001B[0m\u001B[0m\n\u001B[1;32m----> 2\u001B[1;33m \u001B[0mtornado_event\u001B[0m\u001B[1;33m.\u001B[0m\u001B[0mroute_data\u001B[0m\u001B[1;33m.\u001B[0m\u001B[0mget_route\u001B[0m\u001B[1;33m(\u001B[0m\u001B[1;36m1\u001B[0m\u001B[1;33m)\u001B[0m\u001B[1;33m\u001B[0m\u001B[1;33m\u001B[0m\u001B[0m\n\u001B[0m\u001B[0;32m      3\u001B[0m \u001B[0mtornado_event\u001B[0m\u001B[1;33m.\u001B[0m\u001B[0mroute_data\u001B[0m\u001B[1;33m.\u001B[0m\u001B[0mplot_helper\u001B[0m\u001B[1;33m(\u001B[0m\u001B[1;36m1\u001B[0m\u001B[1;33m)\u001B[0m\u001B[1;33m\u001B[0m\u001B[1;33m\u001B[0m\u001B[0m\n",
      "\u001B[1;32mD:\\PythonProjects\\disaster_prep_location_tool\\TornadoCaseGetter.py\u001B[0m in \u001B[0;36mget_route\u001B[1;34m(self, n_depots)\u001B[0m\n\u001B[0;32m    116\u001B[0m             \u001B[1;32mreturn\u001B[0m \u001B[0mself\u001B[0m\u001B[1;33m.\u001B[0m\u001B[0m_routes\u001B[0m\u001B[1;33m.\u001B[0m\u001B[0mget\u001B[0m\u001B[1;33m(\u001B[0m\u001B[0mn_depots\u001B[0m\u001B[1;33m,\u001B[0m \u001B[1;32mNone\u001B[0m\u001B[1;33m)\u001B[0m\u001B[1;33m,\u001B[0m \u001B[0mself\u001B[0m\u001B[1;33m.\u001B[0m\u001B[0m_dists\u001B[0m\u001B[1;33m[\u001B[0m\u001B[0mn_depots\u001B[0m\u001B[1;33m]\u001B[0m\u001B[1;33m,\u001B[0m \u001B[0mself\u001B[0m\u001B[1;33m.\u001B[0m\u001B[0m_t_bars\u001B[0m\u001B[1;33m[\u001B[0m\u001B[0mn_depots\u001B[0m\u001B[1;33m]\u001B[0m\u001B[1;33m\u001B[0m\u001B[1;33m\u001B[0m\u001B[0m\n\u001B[0;32m    117\u001B[0m         \u001B[1;32melse\u001B[0m\u001B[1;33m:\u001B[0m\u001B[1;33m\u001B[0m\u001B[1;33m\u001B[0m\u001B[0m\n\u001B[1;32m--> 118\u001B[1;33m             \u001B[0mroutes\u001B[0m\u001B[1;33m,\u001B[0m \u001B[0mdists\u001B[0m\u001B[1;33m,\u001B[0m \u001B[0mt_bar\u001B[0m \u001B[1;33m=\u001B[0m \u001B[0mself\u001B[0m\u001B[1;33m.\u001B[0m\u001B[0mcluster_first_nearest_insertion_route_second\u001B[0m\u001B[1;33m(\u001B[0m\u001B[0mn_depots\u001B[0m\u001B[1;33m,\u001B[0m \u001B[0mself\u001B[0m\u001B[1;33m.\u001B[0m\u001B[0m_waypoints\u001B[0m\u001B[1;33m)\u001B[0m\u001B[1;33m\u001B[0m\u001B[1;33m\u001B[0m\u001B[0m\n\u001B[0m\u001B[0;32m    119\u001B[0m             \u001B[0mself\u001B[0m\u001B[1;33m.\u001B[0m\u001B[0m_routes\u001B[0m\u001B[1;33m[\u001B[0m\u001B[0mn_depots\u001B[0m\u001B[1;33m]\u001B[0m \u001B[1;33m=\u001B[0m \u001B[0mroutes\u001B[0m\u001B[1;33m\u001B[0m\u001B[1;33m\u001B[0m\u001B[0m\n\u001B[0;32m    120\u001B[0m             \u001B[0mself\u001B[0m\u001B[1;33m.\u001B[0m\u001B[0m_dists\u001B[0m\u001B[1;33m[\u001B[0m\u001B[0mn_depots\u001B[0m\u001B[1;33m]\u001B[0m \u001B[1;33m=\u001B[0m \u001B[0mdists\u001B[0m\u001B[1;33m\u001B[0m\u001B[1;33m\u001B[0m\u001B[0m\n",
      "\u001B[1;32mD:\\PythonProjects\\disaster_prep_location_tool\\TornadoCaseGetter.py\u001B[0m in \u001B[0;36mcluster_first_nearest_insertion_route_second\u001B[1;34m(n_depots, _waypoints)\u001B[0m\n\u001B[0;32m    135\u001B[0m \u001B[1;33m\u001B[0m\u001B[0m\n\u001B[0;32m    136\u001B[0m     \u001B[1;33m@\u001B[0m\u001B[0mstaticmethod\u001B[0m\u001B[1;33m\u001B[0m\u001B[1;33m\u001B[0m\u001B[0m\n\u001B[1;32m--> 137\u001B[1;33m     \u001B[1;32mdef\u001B[0m \u001B[0mcluster_first_nearest_insertion_route_second\u001B[0m\u001B[1;33m(\u001B[0m\u001B[0mn_depots\u001B[0m\u001B[1;33m,\u001B[0m \u001B[0m_waypoints\u001B[0m\u001B[1;33m)\u001B[0m\u001B[1;33m:\u001B[0m\u001B[1;33m\u001B[0m\u001B[1;33m\u001B[0m\u001B[0m\n\u001B[0m\u001B[0;32m    138\u001B[0m         \u001B[0mclusters\u001B[0m \u001B[1;33m=\u001B[0m \u001B[0mcluster_waypoints_with_k_means\u001B[0m\u001B[1;33m(\u001B[0m\u001B[0m_waypoints\u001B[0m\u001B[1;33m,\u001B[0m \u001B[0mn_depots\u001B[0m\u001B[1;33m)\u001B[0m\u001B[1;33m\u001B[0m\u001B[1;33m\u001B[0m\u001B[0m\n\u001B[0;32m    139\u001B[0m         \u001B[0mroutes\u001B[0m\u001B[1;33m,\u001B[0m \u001B[0mdists\u001B[0m\u001B[1;33m,\u001B[0m \u001B[0mt_bar\u001B[0m \u001B[1;33m=\u001B[0m \u001B[0mroute_clusters\u001B[0m\u001B[1;33m(\u001B[0m\u001B[0mclusters\u001B[0m\u001B[1;33m,\u001B[0m \u001B[1;34m'nearest insertion'\u001B[0m\u001B[1;33m)\u001B[0m\u001B[1;33m\u001B[0m\u001B[1;33m\u001B[0m\u001B[0m\n",
      "\u001B[1;32mD:\\PythonProjects\\disaster_prep_location_tool\\routing_algorithm\\routing_algo_refresh.py\u001B[0m in \u001B[0;36mroute_clusters\u001B[1;34m(clusters, method)\u001B[0m\n\u001B[0;32m     32\u001B[0m \u001B[1;32mdef\u001B[0m \u001B[0mroute_clusters\u001B[0m\u001B[1;33m(\u001B[0m\u001B[0mclusters\u001B[0m\u001B[1;33m,\u001B[0m \u001B[0mmethod\u001B[0m\u001B[1;33m)\u001B[0m\u001B[1;33m:\u001B[0m\u001B[1;33m\u001B[0m\u001B[1;33m\u001B[0m\u001B[0m\n\u001B[0;32m     33\u001B[0m     \u001B[1;32mif\u001B[0m \u001B[0mmethod\u001B[0m\u001B[1;33m.\u001B[0m\u001B[0mlower\u001B[0m\u001B[1;33m(\u001B[0m\u001B[1;33m)\u001B[0m \u001B[1;32min\u001B[0m \u001B[1;33m{\u001B[0m\u001B[1;34m'nearest insertion'\u001B[0m\u001B[1;33m,\u001B[0m \u001B[1;34m'nearest_insertion'\u001B[0m\u001B[1;33m}\u001B[0m\u001B[1;33m:\u001B[0m\u001B[1;33m\u001B[0m\u001B[1;33m\u001B[0m\u001B[0m\n\u001B[1;32m---> 34\u001B[1;33m         \u001B[0mtours\u001B[0m\u001B[1;33m,\u001B[0m \u001B[0mdists\u001B[0m\u001B[1;33m,\u001B[0m \u001B[0mt_bar\u001B[0m \u001B[1;33m=\u001B[0m \u001B[0mroute_clusters_with_nearest_insertion\u001B[0m\u001B[1;33m(\u001B[0m\u001B[0mclusters\u001B[0m\u001B[1;33m)\u001B[0m\u001B[1;33m\u001B[0m\u001B[1;33m\u001B[0m\u001B[0m\n\u001B[0m\u001B[0;32m     35\u001B[0m     \u001B[1;32melif\u001B[0m \u001B[0mmethod\u001B[0m\u001B[1;33m.\u001B[0m\u001B[0mlower\u001B[0m\u001B[1;33m(\u001B[0m\u001B[1;33m)\u001B[0m \u001B[1;32min\u001B[0m \u001B[1;33m{\u001B[0m\u001B[1;34m'exact'\u001B[0m\u001B[1;33m}\u001B[0m\u001B[1;33m:\u001B[0m\u001B[1;33m\u001B[0m\u001B[1;33m\u001B[0m\u001B[0m\n\u001B[0;32m     36\u001B[0m         \u001B[0mtours\u001B[0m\u001B[1;33m,\u001B[0m \u001B[0mdists\u001B[0m\u001B[1;33m,\u001B[0m \u001B[0mt_bar\u001B[0m \u001B[1;33m=\u001B[0m \u001B[1;32mNone\u001B[0m\u001B[1;33m,\u001B[0m \u001B[1;32mNone\u001B[0m\u001B[1;33m,\u001B[0m \u001B[1;32mNone\u001B[0m\u001B[1;33m\u001B[0m\u001B[1;33m\u001B[0m\u001B[0m\n",
      "\u001B[1;32mD:\\PythonProjects\\disaster_prep_location_tool\\routing_algorithm\\routing_algo_refresh.py\u001B[0m in \u001B[0;36mroute_clusters_with_nearest_insertion\u001B[1;34m(clusters, MP)\u001B[0m\n\u001B[0;32m     46\u001B[0m         \u001B[0mtours\u001B[0m\u001B[1;33m,\u001B[0m \u001B[0mdists\u001B[0m\u001B[1;33m,\u001B[0m \u001B[0mt_bar\u001B[0m \u001B[1;33m=\u001B[0m \u001B[0mroute_clusters_with_nearest_insertion_using_MP\u001B[0m\u001B[1;33m(\u001B[0m\u001B[0mclusters\u001B[0m\u001B[1;33m)\u001B[0m\u001B[1;33m\u001B[0m\u001B[1;33m\u001B[0m\u001B[0m\n\u001B[0;32m     47\u001B[0m     \u001B[1;32melse\u001B[0m\u001B[1;33m:\u001B[0m\u001B[1;33m\u001B[0m\u001B[1;33m\u001B[0m\u001B[0m\n\u001B[1;32m---> 48\u001B[1;33m         \u001B[0mtours\u001B[0m\u001B[1;33m,\u001B[0m \u001B[0mdists\u001B[0m\u001B[1;33m,\u001B[0m \u001B[0mt_bar\u001B[0m \u001B[1;33m=\u001B[0m \u001B[0mroute_clusters_with_nearest_insertion_serially\u001B[0m\u001B[1;33m(\u001B[0m\u001B[0mclusters\u001B[0m\u001B[1;33m)\u001B[0m\u001B[1;33m\u001B[0m\u001B[1;33m\u001B[0m\u001B[0m\n\u001B[0m\u001B[0;32m     49\u001B[0m     \u001B[1;32mreturn\u001B[0m \u001B[0mtours\u001B[0m\u001B[1;33m,\u001B[0m \u001B[0mdists\u001B[0m\u001B[1;33m,\u001B[0m \u001B[0mt_bar\u001B[0m\u001B[1;33m\u001B[0m\u001B[1;33m\u001B[0m\u001B[0m\n\u001B[0;32m     50\u001B[0m \u001B[1;33m\u001B[0m\u001B[0m\n",
      "\u001B[1;32mD:\\PythonProjects\\disaster_prep_location_tool\\routing_algorithm\\routing_algo_refresh.py\u001B[0m in \u001B[0;36mroute_clusters_with_nearest_insertion_serially\u001B[1;34m(clusters)\u001B[0m\n\u001B[0;32m     53\u001B[0m     \u001B[0mtours\u001B[0m\u001B[1;33m,\u001B[0m \u001B[0mdists\u001B[0m\u001B[1;33m,\u001B[0m \u001B[0mt_bar\u001B[0m \u001B[1;33m=\u001B[0m \u001B[0mdict\u001B[0m\u001B[1;33m(\u001B[0m\u001B[1;33m)\u001B[0m\u001B[1;33m,\u001B[0m \u001B[0mdict\u001B[0m\u001B[1;33m(\u001B[0m\u001B[1;33m)\u001B[0m\u001B[1;33m,\u001B[0m \u001B[1;33m-\u001B[0m\u001B[1;36m1\u001B[0m\u001B[1;33m\u001B[0m\u001B[1;33m\u001B[0m\u001B[0m\n\u001B[0;32m     54\u001B[0m     \u001B[1;32mfor\u001B[0m \u001B[0mcluster\u001B[0m\u001B[1;33m,\u001B[0m \u001B[0mwaypts\u001B[0m \u001B[1;32min\u001B[0m \u001B[0mtqdm\u001B[0m\u001B[1;33m(\u001B[0m\u001B[0mclusters\u001B[0m\u001B[1;33m.\u001B[0m\u001B[0mitems\u001B[0m\u001B[1;33m(\u001B[0m\u001B[1;33m)\u001B[0m\u001B[1;33m,\u001B[0m \u001B[0mdesc\u001B[0m\u001B[1;33m=\u001B[0m\u001B[1;34m'Routing...'\u001B[0m\u001B[1;33m)\u001B[0m\u001B[1;33m:\u001B[0m\u001B[1;33m\u001B[0m\u001B[1;33m\u001B[0m\u001B[0m\n\u001B[1;32m---> 55\u001B[1;33m         \u001B[0mtour_as_wp\u001B[0m\u001B[1;33m,\u001B[0m \u001B[0mdist\u001B[0m\u001B[1;33m,\u001B[0m \u001B[0m_\u001B[0m \u001B[1;33m=\u001B[0m \u001B[0mroute_waypoints_with_nearest_insertion\u001B[0m\u001B[1;33m(\u001B[0m\u001B[0mwaypts\u001B[0m\u001B[1;33m,\u001B[0m \u001B[0mc_num\u001B[0m\u001B[1;33m=\u001B[0m\u001B[0mcluster\u001B[0m\u001B[1;33m)\u001B[0m\u001B[1;33m\u001B[0m\u001B[1;33m\u001B[0m\u001B[0m\n\u001B[0m\u001B[0;32m     56\u001B[0m         \u001B[0mdists\u001B[0m\u001B[1;33m[\u001B[0m\u001B[0mcluster\u001B[0m\u001B[1;33m]\u001B[0m \u001B[1;33m=\u001B[0m \u001B[0mdist\u001B[0m\u001B[1;33m\u001B[0m\u001B[1;33m\u001B[0m\u001B[0m\n\u001B[0;32m     57\u001B[0m         \u001B[0mtours\u001B[0m\u001B[1;33m[\u001B[0m\u001B[0mcluster\u001B[0m\u001B[1;33m]\u001B[0m \u001B[1;33m=\u001B[0m \u001B[0mtour_as_wp\u001B[0m\u001B[1;33m\u001B[0m\u001B[1;33m\u001B[0m\u001B[0m\n",
      "\u001B[1;32mD:\\PythonProjects\\disaster_prep_location_tool\\routing_algorithm\\routing_algo_refresh.py\u001B[0m in \u001B[0;36mroute_waypoints_with_nearest_insertion\u001B[1;34m(waypoints, c_num)\u001B[0m\n\u001B[0;32m     83\u001B[0m     \u001B[0mdist_matrix\u001B[0m \u001B[1;33m=\u001B[0m \u001B[0mscipy\u001B[0m\u001B[1;33m.\u001B[0m\u001B[0mspatial\u001B[0m\u001B[1;33m.\u001B[0m\u001B[0mdistance\u001B[0m\u001B[1;33m.\u001B[0m\u001B[0msquareform\u001B[0m\u001B[1;33m(\u001B[0m\u001B[0mscipy\u001B[0m\u001B[1;33m.\u001B[0m\u001B[0mspatial\u001B[0m\u001B[1;33m.\u001B[0m\u001B[0mdistance\u001B[0m\u001B[1;33m.\u001B[0m\u001B[0mpdist\u001B[0m\u001B[1;33m(\u001B[0m\u001B[0mwaypoints\u001B[0m\u001B[1;33m)\u001B[0m\u001B[1;33m)\u001B[0m\u001B[1;33m\u001B[0m\u001B[1;33m\u001B[0m\u001B[0m\n\u001B[0;32m     84\u001B[0m \u001B[1;33m\u001B[0m\u001B[0m\n\u001B[1;32m---> 85\u001B[1;33m     \u001B[0mtour\u001B[0m\u001B[1;33m,\u001B[0m \u001B[0mdist\u001B[0m \u001B[1;33m=\u001B[0m \u001B[0mconstruct_path_nearest_insertion_heuristic_v2\u001B[0m\u001B[1;33m(\u001B[0m\u001B[0mdist_matrix\u001B[0m\u001B[1;33m,\u001B[0m \u001B[0mstart_min_arc\u001B[0m\u001B[1;33m=\u001B[0m\u001B[1;32mTrue\u001B[0m\u001B[1;33m,\u001B[0m \u001B[0mc_num\u001B[0m\u001B[1;33m=\u001B[0m\u001B[0mc_num\u001B[0m\u001B[1;33m)\u001B[0m\u001B[1;33m\u001B[0m\u001B[1;33m\u001B[0m\u001B[0m\n\u001B[0m\u001B[0;32m     86\u001B[0m     \u001B[1;31m# tour2, dist2 = construct_path_nearest_insertion_heuristic(dist_matrix, start_min_arc=False, c_num=c_num)\u001B[0m\u001B[1;33m\u001B[0m\u001B[1;33m\u001B[0m\u001B[1;33m\u001B[0m\u001B[0m\n\u001B[0;32m     87\u001B[0m     \u001B[1;31m# tour = tour if dist < dist2 else tour2\u001B[0m\u001B[1;33m\u001B[0m\u001B[1;33m\u001B[0m\u001B[1;33m\u001B[0m\u001B[0m\n",
      "\u001B[1;32mD:\\PythonProjects\\disaster_prep_location_tool\\routing_algorithm\\routing_algo_refresh.py\u001B[0m in \u001B[0;36mconstruct_path_nearest_insertion_heuristic_v2\u001B[1;34m(dist_matrix, start_min_arc, c_num)\u001B[0m\n\u001B[0;32m    131\u001B[0m                             if k not in tour]\n\u001B[0;32m    132\u001B[0m         \u001B[0mchange_arc_list\u001B[0m\u001B[1;33m.\u001B[0m\u001B[0msort\u001B[0m\u001B[1;33m(\u001B[0m\u001B[0mkey\u001B[0m\u001B[1;33m=\u001B[0m\u001B[1;32mlambda\u001B[0m \u001B[0mx\u001B[0m\u001B[1;33m:\u001B[0m \u001B[0mx\u001B[0m\u001B[1;33m.\u001B[0m\u001B[0mval\u001B[0m\u001B[1;33m)\u001B[0m\u001B[1;33m\u001B[0m\u001B[1;33m\u001B[0m\u001B[0m\n\u001B[1;32m--> 133\u001B[1;33m         \u001B[1;32mif\u001B[0m \u001B[0mchange_arc_list\u001B[0m\u001B[1;33m:\u001B[0m\u001B[1;33m\u001B[0m\u001B[1;33m\u001B[0m\u001B[0m\n\u001B[0m\u001B[0;32m    134\u001B[0m             \u001B[0mnear_insert\u001B[0m \u001B[1;33m=\u001B[0m \u001B[0mchange_arc_list\u001B[0m\u001B[1;33m.\u001B[0m\u001B[0mpop\u001B[0m\u001B[1;33m(\u001B[0m\u001B[1;36m0\u001B[0m\u001B[1;33m)\u001B[0m\u001B[1;33m\u001B[0m\u001B[1;33m\u001B[0m\u001B[0m\n\u001B[0;32m    135\u001B[0m             \u001B[0m_i\u001B[0m\u001B[1;33m,\u001B[0m \u001B[0m_j\u001B[0m \u001B[1;33m=\u001B[0m \u001B[0mtour\u001B[0m\u001B[1;33m.\u001B[0m\u001B[0mindex\u001B[0m\u001B[1;33m(\u001B[0m\u001B[0mnear_insert\u001B[0m\u001B[1;33m.\u001B[0m\u001B[0mi\u001B[0m\u001B[1;33m)\u001B[0m\u001B[1;33m,\u001B[0m \u001B[0mtour\u001B[0m\u001B[1;33m.\u001B[0m\u001B[0mindex\u001B[0m\u001B[1;33m(\u001B[0m\u001B[0mnear_insert\u001B[0m\u001B[1;33m.\u001B[0m\u001B[0mj\u001B[0m\u001B[1;33m)\u001B[0m\u001B[1;33m\u001B[0m\u001B[1;33m\u001B[0m\u001B[0m\n",
      "\u001B[1;31mKeyboardInterrupt\u001B[0m: "
     ]
    }
   ],
   "source": [
    "tornado_date, tornado_event = tornado_cases.get_random_event()\n",
    "tornado_event.route_data.get_route(1)\n",
    "tornado_event.route_data.plot_helper(1)"
   ],
   "metadata": {
    "collapsed": false,
    "pycharm": {
     "name": "#%%\n"
    }
   }
  },
  {
   "cell_type": "code",
   "execution_count": 5,
   "outputs": [
    {
     "name": "stderr",
     "output_type": "stream",
     "text": [
      "D:\\PythonProjects\\disaster_prep_location_tool\\station_removal_heuristic\\StoppingCriteria.py:24: UserWarning: No stopping criteria passed.  Using a max global iter count of 1000 and local iter count of 100\n",
      "  warnings.warn(f\"No stopping criteria passed.  Using a max global iter \"\n"
     ]
    }
   ],
   "source": [
    "import copy\n",
    "from station_removal_heuristic.StoppingCriteria import StoppingCriteria\n",
    "from station_removal_heuristic.station_removal_heuristic import _convert_df_to_alternative_data_structure\n",
    "\n",
    "initial_solution = _convert_df_to_alternative_data_structure(fire_stations)\n",
    "best_solution = copy.deepcopy(initial_solution)\n",
    "current_solution = copy.deepcopy(best_solution)\n",
    "\n",
    "stopping_criteria = StoppingCriteria(dict())\n",
    "\n",
    "depot_failure = pars.get('depot_failure', 0.05)"
   ],
   "metadata": {
    "collapsed": false,
    "pycharm": {
     "name": "#%%\n"
    }
   }
  },
  {
   "cell_type": "code",
   "execution_count": null,
   "outputs": [],
   "source": [
    "from station_removal_heuristic.station_removal_heuristic import make_solution\n",
    "import random\n",
    "\n",
    "while stopping_criteria.is_not_complete():\n",
    "    stopping_criteria.reset_local_counter()\n",
    "    while stopping_criteria.is_not_complete():\n",
    "        stopping_criteria.update_counter()\n",
    "        date, tornado_event, sbw_events = tornado_cases.get_random_case()\n",
    "        up_stations = {\n",
    "            key: value for key, value in current_solution.items()\n",
    "            if random.random() > depot_failure\n",
    "        }\n",
    "        routes, t_bar, t_bar_with_return_leg = make_solution(up_stations, sbw_events, current_solution, pars)\n",
    "\n"
   ],
   "metadata": {
    "collapsed": false,
    "pycharm": {
     "name": "#%%\n"
    }
   }
  }
 ],
 "metadata": {
  "kernelspec": {
   "display_name": "Python 3",
   "language": "python",
   "name": "python3"
  },
  "language_info": {
   "codemirror_mode": {
    "name": "ipython",
    "version": 2
   },
   "file_extension": ".py",
   "mimetype": "text/x-python",
   "name": "python",
   "nbconvert_exporter": "python",
   "pygments_lexer": "ipython2",
   "version": "2.7.6"
  }
 },
 "nbformat": 4,
 "nbformat_minor": 0
}